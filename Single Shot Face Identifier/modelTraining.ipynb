{
 "cells": [
  {
   "cell_type": "code",
   "execution_count": null,
   "metadata": {},
   "outputs": [],
   "source": [
    "import os \n",
    "import cv2\n",
    "import matplotlib.pyplot as plt\n",
    "import numpy as np\n",
    "import random"
   ]
  },
  {
   "cell_type": "code",
   "execution_count": null,
   "metadata": {},
   "outputs": [],
   "source": [
    "##Fetch Data\n",
    "pathname=\"../input/vggface-using-tripletloss/celebs/celebs\"\n",
    "#pathname=\"../input/vggface-using-tripletloss/crop_faces/faces\"\n",
    "dirList=os.listdir(pathname)\n",
    "print(dirList)\n",
    "ln=len(dirList)\n",
    "print(ln)\n",
    "pathname+=\"/\""
   ]
  },
  {
   "cell_type": "code",
   "execution_count": null,
   "metadata": {},
   "outputs": [],
   "source": [
    "person=0\n",
    "pairs=[]\n",
    "pairsy=[]"
   ]
  },
  {
   "cell_type": "code",
   "execution_count": null,
   "metadata": {},
   "outputs": [],
   "source": [
    "##random data generator\n",
    "\n",
    "\n",
    "#false pairs\n",
    "for x in range(ln):\n",
    "    p1=x\n",
    "    p1l=os.listdir(pathname+dirList[p1])\n",
    "    #for i in range(len(p1l)):\n",
    "    for i in range(50):\n",
    "        while True:\n",
    "            p2 = random.randint(0,ln-1)\n",
    "            if(p2==p1):\n",
    "                continue\n",
    "            else:\n",
    "                break\n",
    "        #print(p2)\n",
    "        p2l=os.listdir(pathname+dirList[p2])\n",
    "        p1p=random.randint(0,len(p1l)-1)\n",
    "        #p1p=i\n",
    "        p2p=random.randint(0,len(p2l)-1)\n",
    "        faceImg1=cv2.imread(pathname+dirList[p1]+\"/\"+p1l[p1p])\n",
    "        faceImg1=cv2.resize(faceImg1, (224, 224) ,interpolation = cv2.INTER_NEAREST)\n",
    "        faceImg2=cv2.imread(pathname+dirList[p2]+\"/\"+p2l[p2p])\n",
    "        faceImg2=cv2.resize(faceImg2, (224, 224), interpolation = cv2.INTER_NEAREST)\n",
    "        #plt.imshow(faceImg1)\n",
    "        #plt.show()\n",
    "        #plt.imshow(faceImg2)\n",
    "        #plt.show()\n",
    "        pairs.append([faceImg1,faceImg2])\n",
    "        pairsy.append(0)\n",
    "\n",
    "del(p1l)\n",
    "del(p2l)"
   ]
  },
  {
   "cell_type": "code",
   "execution_count": null,
   "metadata": {},
   "outputs": [],
   "source": [
    "i=20\n",
    "plt.imshow(pairs[i][0])\n",
    "plt.show()\n",
    "plt.imshow(pairs[i][1])\n",
    "plt.show()"
   ]
  },
  {
   "cell_type": "code",
   "execution_count": null,
   "metadata": {},
   "outputs": [],
   "source": [
    "#positive pair\n",
    "for x in range(ln):\n",
    "    p1=x\n",
    "    p1l=os.listdir(pathname+dirList[p1])\n",
    "    #for i in range(len(p1l)):\n",
    "    for i in range(50):   \n",
    "        p1p=random.randint(0,len(p1l)-1)\n",
    "        #p1p=i\n",
    "        f1=cv2.imread(pathname+dirList[p1]+\"/\"+p1l[p1p])\n",
    "        f1=cv2.resize(f1, (224, 224) ,interpolation = cv2.INTER_NEAREST)\n",
    "\n",
    "\n",
    "        p1p=random.randint(0,len(p1l)-1)\n",
    "        f2=cv2.imread(pathname+dirList[p1]+\"/\"+p1l[p1p])\n",
    "        f2=cv2.resize(f2, (224, 224) ,interpolation = cv2.INTER_NEAREST)\n",
    "\n",
    "\n",
    "        pairs.append([f1,f2])\n",
    "        pairsy.append(1)\n",
    "del(p1l)"
   ]
  },
  {
   "cell_type": "code",
   "execution_count": null,
   "metadata": {},
   "outputs": [],
   "source": [
    "i=-100\n",
    "plt.imshow(pairs[i][0])\n",
    "plt.show()\n",
    "plt.imshow(pairs[i][1])\n",
    "plt.show()"
   ]
  },
  {
   "cell_type": "code",
   "execution_count": null,
   "metadata": {},
   "outputs": [],
   "source": [
    "from sklearn.model_selection import train_test_split\n",
    "pairs, X_test, pairsy, y_test = train_test_split(pairs, pairsy, test_size=0.30)"
   ]
  },
  {
   "cell_type": "code",
   "execution_count": null,
   "metadata": {},
   "outputs": [],
   "source": [
    "ten1=[]\n",
    "ten2=[]\n",
    "for i in X_test:\n",
    "    ten1.append(i[0])\n",
    "    ten2.append(i[1])\n",
    "ten1=np.array(ten1)\n",
    "ten2=np.array(ten2)"
   ]
  },
  {
   "cell_type": "code",
   "execution_count": null,
   "metadata": {},
   "outputs": [],
   "source": [
    "del(pairs)\n",
    "del(y_test)\n",
    "del(X_test)"
   ]
  },
  {
   "cell_type": "code",
   "execution_count": null,
   "metadata": {},
   "outputs": [],
   "source": [
    "from tensorflow.keras.applications import VGG16,EfficientNetB2\n",
    "from tensorflow.keras.models import Sequential,Model\n",
    "from tensorflow.keras.layers import Conv2D, MaxPool2D,Lambda, Conv2DTranspose, Flatten,Dense,Subtract,Input"
   ]
  },
  {
   "cell_type": "code",
   "execution_count": null,
   "metadata": {},
   "outputs": [],
   "source": [
    "#siamese nural net\n",
    "model=Sequential()\n",
    "model.add(EfficientNetB2(include_top=False,input_shape=(224,224,3)))\n",
    "model.add(Flatten())\n",
    "#model.summary()\n",
    "\n",
    "\n",
    "input_shape = (224,224,3)\n",
    "left_input = Input(input_shape)\n",
    "right_input = Input(input_shape)\n",
    "\n",
    "\n",
    "encoded_l = model(left_input)\n",
    "encoded_r = model(right_input)\n",
    "\n",
    "\n",
    "subtracted = Subtract()([encoded_l,encoded_r])\n",
    "both = Lambda(lambda x: abs(x))(subtracted)\n",
    "prediction = Dense(2,activation='softmax')(both)\n",
    "\n",
    "siamese_net = Model(inputs=[left_input,right_input],outputs=prediction)\n",
    "siamese_net.summary()"
   ]
  },
  {
   "cell_type": "code",
   "execution_count": null,
   "metadata": {},
   "outputs": [],
   "source": [
    "import tensorflow\n",
    "optimizer = tensorflow.keras.optimizers.Adam(learning_rate=0.0001)\n",
    "siamese_net.compile(optimizer=optimizer,\n",
    "    loss=\"sparse_categorical_crossentropy\",\n",
    "    metrics=['accuracy'],)"
   ]
  },
  {
   "cell_type": "code",
   "execution_count": null,
   "metadata": {},
   "outputs": [],
   "source": [
    "import tensorflow as tf\n",
    "tf.config.run_functions_eagerly(True)"
   ]
  },
  {
   "cell_type": "code",
   "execution_count": null,
   "metadata": {},
   "outputs": [],
   "source": [
    "siamese_net.fit(x=[ten1,ten2],y=np.array(pairsy),epochs=10)"
   ]
  },
  {
   "cell_type": "code",
   "execution_count": null,
   "metadata": {},
   "outputs": [],
   "source": [
    "del(ten1)\n",
    "del(ten2)\n",
    "del(pairsy)"
   ]
  },
  {
   "cell_type": "code",
   "execution_count": null,
   "metadata": {},
   "outputs": [],
   "source": [
    "print(siamese_net.predict(x=[np.array([imgp[1]]),np.array([imga[0]])]))"
   ]
  },
  {
   "cell_type": "code",
   "execution_count": null,
   "metadata": {},
   "outputs": [],
   "source": [
    "siamese_net.save(\"mdl-7.h5\")"
   ]
  },
  {
   "cell_type": "code",
   "execution_count": null,
   "metadata": {},
   "outputs": [],
   "source": [
    "from tensorflow import keras\n",
    "model = keras.models.load_model('../input/face-identification/mdl-6-2.h5')\n"
   ]
  },
  {
   "cell_type": "code",
   "execution_count": null,
   "metadata": {},
   "outputs": [],
   "source": []
  }
 ],
 "metadata": {
  "language_info": {
   "name": "python"
  },
  "orig_nbformat": 4
 },
 "nbformat": 4,
 "nbformat_minor": 2
}
